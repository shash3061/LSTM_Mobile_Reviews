{
 "cells": [
  {
   "cell_type": "code",
   "execution_count": 103,
   "metadata": {
    "id": "4TZsgBafZbxO"
   },
   "outputs": [],
   "source": [
    "import numpy as np\n",
    "import pandas as pd\n",
    "import matplotlib.pyplot as plt\n",
    "%matplotlib inline\n",
    "import seaborn as sns\n",
    "import nltk\n",
    "from nltk.corpus import stopwords\n",
    "from nltk.stem import WordNetLemmatizer\n",
    "import os\n",
    "import string\n",
    "from sklearn.feature_extraction.text import CountVectorizer\n",
    "import tensorflow as tf\n",
    "from tensorflow import keras\n",
    "from tensorflow.keras.preprocessing.text import Tokenizer\n",
    "from tensorflow.keras.preprocessing.sequence import pad_sequences\n",
    "from tensorflow.keras.models import Sequential\n",
    "from tensorflow.keras.layers import Dense, Embedding, LSTM, SpatialDropout1D\n",
    "from sklearn.model_selection import train_test_split\n",
    "from tensorflow.keras.utils import to_categorical"
   ]
  },
  {
   "cell_type": "code",
   "execution_count": 104,
   "metadata": {
    "colab": {
     "base_uri": "https://localhost:8080/",
     "height": 346
    },
    "id": "JcwAbhD3bvOc",
    "outputId": "5b4a9ea5-7908-46c8-8fed-b63bc646bfe4"
   },
   "outputs": [
    {
     "data": {
      "text/html": [
       "<div>\n",
       "<style scoped>\n",
       "    .dataframe tbody tr th:only-of-type {\n",
       "        vertical-align: middle;\n",
       "    }\n",
       "\n",
       "    .dataframe tbody tr th {\n",
       "        vertical-align: top;\n",
       "    }\n",
       "\n",
       "    .dataframe thead th {\n",
       "        text-align: right;\n",
       "    }\n",
       "</style>\n",
       "<table border=\"1\" class=\"dataframe\">\n",
       "  <thead>\n",
       "    <tr style=\"text-align: right;\">\n",
       "      <th></th>\n",
       "      <th>Product Name</th>\n",
       "      <th>Brand Name</th>\n",
       "      <th>Price</th>\n",
       "      <th>Rating</th>\n",
       "      <th>Reviews</th>\n",
       "      <th>Review Votes</th>\n",
       "    </tr>\n",
       "  </thead>\n",
       "  <tbody>\n",
       "    <tr>\n",
       "      <th>305711</th>\n",
       "      <td>Samsung Focus I917 Unlocked Phone with Windows...</td>\n",
       "      <td>Samsung</td>\n",
       "      <td>29.99</td>\n",
       "      <td>5</td>\n",
       "      <td>the only down side is windows is moving away f...</td>\n",
       "      <td>0.0</td>\n",
       "    </tr>\n",
       "    <tr>\n",
       "      <th>117952</th>\n",
       "      <td>BLU Energy X 2 - With 4000 mAh Super Battery -...</td>\n",
       "      <td>BLU</td>\n",
       "      <td>109.99</td>\n",
       "      <td>4</td>\n",
       "      <td>good thank</td>\n",
       "      <td>0.0</td>\n",
       "    </tr>\n",
       "    <tr>\n",
       "      <th>152315</th>\n",
       "      <td>BLU Studio C Super Camera -Unlocked Smartphone...</td>\n",
       "      <td>BLU</td>\n",
       "      <td>99.00</td>\n",
       "      <td>5</td>\n",
       "      <td>Great phone.</td>\n",
       "      <td>0.0</td>\n",
       "    </tr>\n",
       "    <tr>\n",
       "      <th>358083</th>\n",
       "      <td>Samsung Galaxy S5 SM-G900H Factory Unlocked Ce...</td>\n",
       "      <td>Samsung</td>\n",
       "      <td>339.99</td>\n",
       "      <td>1</td>\n",
       "      <td>Cellphone stop working</td>\n",
       "      <td>0.0</td>\n",
       "    </tr>\n",
       "    <tr>\n",
       "      <th>359783</th>\n",
       "      <td>Samsung Galaxy S6 32GB SM-G920i - Unlocked Whi...</td>\n",
       "      <td>Samsung</td>\n",
       "      <td>459.99</td>\n",
       "      <td>5</td>\n",
       "      <td>I've only used it for about three days but I t...</td>\n",
       "      <td>0.0</td>\n",
       "    </tr>\n",
       "  </tbody>\n",
       "</table>\n",
       "</div>"
      ],
      "text/plain": [
       "                                             Product Name  ... Review Votes\n",
       "305711  Samsung Focus I917 Unlocked Phone with Windows...  ...          0.0\n",
       "117952  BLU Energy X 2 - With 4000 mAh Super Battery -...  ...          0.0\n",
       "152315  BLU Studio C Super Camera -Unlocked Smartphone...  ...          0.0\n",
       "358083  Samsung Galaxy S5 SM-G900H Factory Unlocked Ce...  ...          0.0\n",
       "359783  Samsung Galaxy S6 32GB SM-G920i - Unlocked Whi...  ...          0.0\n",
       "\n",
       "[5 rows x 6 columns]"
      ]
     },
     "execution_count": 104,
     "metadata": {
      "tags": []
     },
     "output_type": "execute_result"
    }
   ],
   "source": [
    "df = pd.read_csv(\"data.csv\")\n",
    "df = df.sample(frac = 0.05, replace = True, random_state = 0)\n",
    "df.head()"
   ]
  },
  {
   "cell_type": "code",
   "execution_count": 105,
   "metadata": {
    "colab": {
     "base_uri": "https://localhost:8080/",
     "height": 34
    },
    "id": "Zr7pvMwDK3Ry",
    "outputId": "c69f7436-7300-49f6-fd4c-fee87e8e371e"
   },
   "outputs": [
    {
     "data": {
      "text/plain": [
       "4167"
      ]
     },
     "execution_count": 105,
     "metadata": {
      "tags": []
     },
     "output_type": "execute_result"
    }
   ],
   "source": [
    "df.isnull().sum().sum()"
   ]
  },
  {
   "cell_type": "code",
   "execution_count": 106,
   "metadata": {
    "colab": {
     "base_uri": "https://localhost:8080/",
     "height": 34
    },
    "id": "_z73LLCrLE9w",
    "outputId": "44bd075c-7f2f-42ec-9ff5-631eecb4db53"
   },
   "outputs": [
    {
     "data": {
      "text/plain": [
       "20692"
      ]
     },
     "execution_count": 106,
     "metadata": {
      "tags": []
     },
     "output_type": "execute_result"
    }
   ],
   "source": [
    "len(df)"
   ]
  },
  {
   "cell_type": "code",
   "execution_count": 107,
   "metadata": {
    "colab": {
     "base_uri": "https://localhost:8080/",
     "height": 34
    },
    "id": "gSPlyvCYLErY",
    "outputId": "95ce98e7-3c83-453d-8157-ed95eb8c7163"
   },
   "outputs": [
    {
     "data": {
      "text/plain": [
       "16710"
      ]
     },
     "execution_count": 107,
     "metadata": {
      "tags": []
     },
     "output_type": "execute_result"
    }
   ],
   "source": [
    "df.dropna(inplace = True)\n",
    "len(df)"
   ]
  },
  {
   "cell_type": "code",
   "execution_count": 108,
   "metadata": {
    "colab": {
     "base_uri": "https://localhost:8080/",
     "height": 346
    },
    "id": "G-in1itsLEgg",
    "outputId": "1091170f-cadd-4a3f-abaf-f512464e98a9"
   },
   "outputs": [
    {
     "data": {
      "text/html": [
       "<div>\n",
       "<style scoped>\n",
       "    .dataframe tbody tr th:only-of-type {\n",
       "        vertical-align: middle;\n",
       "    }\n",
       "\n",
       "    .dataframe tbody tr th {\n",
       "        vertical-align: top;\n",
       "    }\n",
       "\n",
       "    .dataframe thead th {\n",
       "        text-align: right;\n",
       "    }\n",
       "</style>\n",
       "<table border=\"1\" class=\"dataframe\">\n",
       "  <thead>\n",
       "    <tr style=\"text-align: right;\">\n",
       "      <th></th>\n",
       "      <th>Product Name</th>\n",
       "      <th>Brand Name</th>\n",
       "      <th>Price</th>\n",
       "      <th>Rating</th>\n",
       "      <th>Reviews</th>\n",
       "      <th>Review Votes</th>\n",
       "    </tr>\n",
       "  </thead>\n",
       "  <tbody>\n",
       "    <tr>\n",
       "      <th>305711</th>\n",
       "      <td>Samsung Focus I917 Unlocked Phone with Windows...</td>\n",
       "      <td>Samsung</td>\n",
       "      <td>29.99</td>\n",
       "      <td>5</td>\n",
       "      <td>the only down side is windows is moving away f...</td>\n",
       "      <td>0.0</td>\n",
       "    </tr>\n",
       "    <tr>\n",
       "      <th>117952</th>\n",
       "      <td>BLU Energy X 2 - With 4000 mAh Super Battery -...</td>\n",
       "      <td>BLU</td>\n",
       "      <td>109.99</td>\n",
       "      <td>4</td>\n",
       "      <td>good thank</td>\n",
       "      <td>0.0</td>\n",
       "    </tr>\n",
       "    <tr>\n",
       "      <th>152315</th>\n",
       "      <td>BLU Studio C Super Camera -Unlocked Smartphone...</td>\n",
       "      <td>BLU</td>\n",
       "      <td>99.00</td>\n",
       "      <td>5</td>\n",
       "      <td>Great phone.</td>\n",
       "      <td>0.0</td>\n",
       "    </tr>\n",
       "    <tr>\n",
       "      <th>358083</th>\n",
       "      <td>Samsung Galaxy S5 SM-G900H Factory Unlocked Ce...</td>\n",
       "      <td>Samsung</td>\n",
       "      <td>339.99</td>\n",
       "      <td>1</td>\n",
       "      <td>Cellphone stop working</td>\n",
       "      <td>0.0</td>\n",
       "    </tr>\n",
       "    <tr>\n",
       "      <th>359783</th>\n",
       "      <td>Samsung Galaxy S6 32GB SM-G920i - Unlocked Whi...</td>\n",
       "      <td>Samsung</td>\n",
       "      <td>459.99</td>\n",
       "      <td>5</td>\n",
       "      <td>I've only used it for about three days but I t...</td>\n",
       "      <td>0.0</td>\n",
       "    </tr>\n",
       "  </tbody>\n",
       "</table>\n",
       "</div>"
      ],
      "text/plain": [
       "                                             Product Name  ... Review Votes\n",
       "305711  Samsung Focus I917 Unlocked Phone with Windows...  ...          0.0\n",
       "117952  BLU Energy X 2 - With 4000 mAh Super Battery -...  ...          0.0\n",
       "152315  BLU Studio C Super Camera -Unlocked Smartphone...  ...          0.0\n",
       "358083  Samsung Galaxy S5 SM-G900H Factory Unlocked Ce...  ...          0.0\n",
       "359783  Samsung Galaxy S6 32GB SM-G920i - Unlocked Whi...  ...          0.0\n",
       "\n",
       "[5 rows x 6 columns]"
      ]
     },
     "execution_count": 108,
     "metadata": {
      "tags": []
     },
     "output_type": "execute_result"
    }
   ],
   "source": [
    "df.head()"
   ]
  },
  {
   "cell_type": "code",
   "execution_count": 109,
   "metadata": {
    "colab": {
     "base_uri": "https://localhost:8080/",
     "height": 430
    },
    "id": "HovmmJOaLJqA",
    "outputId": "f82bcb04-c152-44a9-848a-e2cc525acde3"
   },
   "outputs": [
    {
     "data": {
      "text/html": [
       "<div>\n",
       "<style scoped>\n",
       "    .dataframe tbody tr th:only-of-type {\n",
       "        vertical-align: middle;\n",
       "    }\n",
       "\n",
       "    .dataframe tbody tr th {\n",
       "        vertical-align: top;\n",
       "    }\n",
       "\n",
       "    .dataframe thead th {\n",
       "        text-align: right;\n",
       "    }\n",
       "</style>\n",
       "<table border=\"1\" class=\"dataframe\">\n",
       "  <thead>\n",
       "    <tr style=\"text-align: right;\">\n",
       "      <th></th>\n",
       "      <th>Product Name</th>\n",
       "      <th>Brand Name</th>\n",
       "      <th>Price</th>\n",
       "      <th>Rating</th>\n",
       "      <th>Reviews</th>\n",
       "      <th>Review Votes</th>\n",
       "      <th>Positively Rated</th>\n",
       "    </tr>\n",
       "  </thead>\n",
       "  <tbody>\n",
       "    <tr>\n",
       "      <th>305711</th>\n",
       "      <td>Samsung Focus I917 Unlocked Phone with Windows...</td>\n",
       "      <td>Samsung</td>\n",
       "      <td>29.99</td>\n",
       "      <td>5</td>\n",
       "      <td>the only down side is windows is moving away f...</td>\n",
       "      <td>0.0</td>\n",
       "      <td>1</td>\n",
       "    </tr>\n",
       "    <tr>\n",
       "      <th>117952</th>\n",
       "      <td>BLU Energy X 2 - With 4000 mAh Super Battery -...</td>\n",
       "      <td>BLU</td>\n",
       "      <td>109.99</td>\n",
       "      <td>4</td>\n",
       "      <td>good thank</td>\n",
       "      <td>0.0</td>\n",
       "      <td>1</td>\n",
       "    </tr>\n",
       "    <tr>\n",
       "      <th>152315</th>\n",
       "      <td>BLU Studio C Super Camera -Unlocked Smartphone...</td>\n",
       "      <td>BLU</td>\n",
       "      <td>99.00</td>\n",
       "      <td>5</td>\n",
       "      <td>Great phone.</td>\n",
       "      <td>0.0</td>\n",
       "      <td>1</td>\n",
       "    </tr>\n",
       "    <tr>\n",
       "      <th>358083</th>\n",
       "      <td>Samsung Galaxy S5 SM-G900H Factory Unlocked Ce...</td>\n",
       "      <td>Samsung</td>\n",
       "      <td>339.99</td>\n",
       "      <td>1</td>\n",
       "      <td>Cellphone stop working</td>\n",
       "      <td>0.0</td>\n",
       "      <td>0</td>\n",
       "    </tr>\n",
       "    <tr>\n",
       "      <th>359783</th>\n",
       "      <td>Samsung Galaxy S6 32GB SM-G920i - Unlocked Whi...</td>\n",
       "      <td>Samsung</td>\n",
       "      <td>459.99</td>\n",
       "      <td>5</td>\n",
       "      <td>I've only used it for about three days but I t...</td>\n",
       "      <td>0.0</td>\n",
       "      <td>1</td>\n",
       "    </tr>\n",
       "  </tbody>\n",
       "</table>\n",
       "</div>"
      ],
      "text/plain": [
       "                                             Product Name  ... Positively Rated\n",
       "305711  Samsung Focus I917 Unlocked Phone with Windows...  ...                1\n",
       "117952  BLU Energy X 2 - With 4000 mAh Super Battery -...  ...                1\n",
       "152315  BLU Studio C Super Camera -Unlocked Smartphone...  ...                1\n",
       "358083  Samsung Galaxy S5 SM-G900H Factory Unlocked Ce...  ...                0\n",
       "359783  Samsung Galaxy S6 32GB SM-G920i - Unlocked Whi...  ...                1\n",
       "\n",
       "[5 rows x 7 columns]"
      ]
     },
     "execution_count": 109,
     "metadata": {
      "tags": []
     },
     "output_type": "execute_result"
    }
   ],
   "source": [
    "# Remove neutral ratings (=3)\n",
    "df = df[df[\"Rating\"] != 3]\n",
    "\n",
    "# 4 & 5 -> Positive(1)\n",
    "# 1 & 2 -> Negative(0)\n",
    "df[\"Positively Rated\"] = np.where(df[\"Rating\"] > 3, 1, 0)\n",
    "df.head()"
   ]
  },
  {
   "cell_type": "code",
   "execution_count": 110,
   "metadata": {
    "colab": {
     "base_uri": "https://localhost:8080/",
     "height": 34
    },
    "id": "iEBXbDPELJhY",
    "outputId": "6af101b7-9734-453d-9c30-b7ca7e07668d"
   },
   "outputs": [
    {
     "data": {
      "text/plain": [
       "0.7463900091062833"
      ]
     },
     "execution_count": 110,
     "metadata": {
      "tags": []
     },
     "output_type": "execute_result"
    }
   ],
   "source": [
    "df[\"Positively Rated\"].mean()"
   ]
  },
  {
   "cell_type": "code",
   "execution_count": 111,
   "metadata": {
    "colab": {
     "base_uri": "https://localhost:8080/",
     "height": 430
    },
    "id": "dpA92lBuLY5P",
    "outputId": "36341608-4405-409a-902e-0deb4657dcef"
   },
   "outputs": [
    {
     "data": {
      "text/html": [
       "<div>\n",
       "<style scoped>\n",
       "    .dataframe tbody tr th:only-of-type {\n",
       "        vertical-align: middle;\n",
       "    }\n",
       "\n",
       "    .dataframe tbody tr th {\n",
       "        vertical-align: top;\n",
       "    }\n",
       "\n",
       "    .dataframe thead th {\n",
       "        text-align: right;\n",
       "    }\n",
       "</style>\n",
       "<table border=\"1\" class=\"dataframe\">\n",
       "  <thead>\n",
       "    <tr style=\"text-align: right;\">\n",
       "      <th></th>\n",
       "      <th>Product Name</th>\n",
       "      <th>Brand Name</th>\n",
       "      <th>Price</th>\n",
       "      <th>Rating</th>\n",
       "      <th>Reviews</th>\n",
       "      <th>Review Votes</th>\n",
       "      <th>Positively Rated</th>\n",
       "    </tr>\n",
       "  </thead>\n",
       "  <tbody>\n",
       "    <tr>\n",
       "      <th>305711</th>\n",
       "      <td>Samsung Focus I917 Unlocked Phone with Windows...</td>\n",
       "      <td>Samsung</td>\n",
       "      <td>29.99</td>\n",
       "      <td>5</td>\n",
       "      <td>the only down side is windows is moving away f...</td>\n",
       "      <td>0.0</td>\n",
       "      <td>1</td>\n",
       "    </tr>\n",
       "    <tr>\n",
       "      <th>117952</th>\n",
       "      <td>BLU Energy X 2 - With 4000 mAh Super Battery -...</td>\n",
       "      <td>BLU</td>\n",
       "      <td>109.99</td>\n",
       "      <td>4</td>\n",
       "      <td>good thank</td>\n",
       "      <td>0.0</td>\n",
       "      <td>1</td>\n",
       "    </tr>\n",
       "    <tr>\n",
       "      <th>152315</th>\n",
       "      <td>BLU Studio C Super Camera -Unlocked Smartphone...</td>\n",
       "      <td>BLU</td>\n",
       "      <td>99.00</td>\n",
       "      <td>5</td>\n",
       "      <td>great phone.</td>\n",
       "      <td>0.0</td>\n",
       "      <td>1</td>\n",
       "    </tr>\n",
       "    <tr>\n",
       "      <th>358083</th>\n",
       "      <td>Samsung Galaxy S5 SM-G900H Factory Unlocked Ce...</td>\n",
       "      <td>Samsung</td>\n",
       "      <td>339.99</td>\n",
       "      <td>1</td>\n",
       "      <td>cellphone stop working</td>\n",
       "      <td>0.0</td>\n",
       "      <td>0</td>\n",
       "    </tr>\n",
       "    <tr>\n",
       "      <th>359783</th>\n",
       "      <td>Samsung Galaxy S6 32GB SM-G920i - Unlocked Whi...</td>\n",
       "      <td>Samsung</td>\n",
       "      <td>459.99</td>\n",
       "      <td>5</td>\n",
       "      <td>i've only used it for about three days but i t...</td>\n",
       "      <td>0.0</td>\n",
       "      <td>1</td>\n",
       "    </tr>\n",
       "  </tbody>\n",
       "</table>\n",
       "</div>"
      ],
      "text/plain": [
       "                                             Product Name  ... Positively Rated\n",
       "305711  Samsung Focus I917 Unlocked Phone with Windows...  ...                1\n",
       "117952  BLU Energy X 2 - With 4000 mAh Super Battery -...  ...                1\n",
       "152315  BLU Studio C Super Camera -Unlocked Smartphone...  ...                1\n",
       "358083  Samsung Galaxy S5 SM-G900H Factory Unlocked Ce...  ...                0\n",
       "359783  Samsung Galaxy S6 32GB SM-G920i - Unlocked Whi...  ...                1\n",
       "\n",
       "[5 rows x 7 columns]"
      ]
     },
     "execution_count": 111,
     "metadata": {
      "tags": []
     },
     "output_type": "execute_result"
    }
   ],
   "source": [
    "# Lower Case\n",
    "df[\"Reviews\"] = df[\"Reviews\"].str.lower()\n",
    "df.head()"
   ]
  },
  {
   "cell_type": "code",
   "execution_count": 112,
   "metadata": {
    "colab": {
     "base_uri": "https://localhost:8080/",
     "height": 195
    },
    "id": "gqRhL0lkLY1y",
    "outputId": "5e4f29d8-d65e-4d53-ac6d-ec92a492b3ca"
   },
   "outputs": [
    {
     "data": {
      "text/html": [
       "<div>\n",
       "<style scoped>\n",
       "    .dataframe tbody tr th:only-of-type {\n",
       "        vertical-align: middle;\n",
       "    }\n",
       "\n",
       "    .dataframe tbody tr th {\n",
       "        vertical-align: top;\n",
       "    }\n",
       "\n",
       "    .dataframe thead th {\n",
       "        text-align: right;\n",
       "    }\n",
       "</style>\n",
       "<table border=\"1\" class=\"dataframe\">\n",
       "  <thead>\n",
       "    <tr style=\"text-align: right;\">\n",
       "      <th></th>\n",
       "      <th>Reviews</th>\n",
       "      <th>Positively Rated</th>\n",
       "    </tr>\n",
       "  </thead>\n",
       "  <tbody>\n",
       "    <tr>\n",
       "      <th>305711</th>\n",
       "      <td>the only down side is windows is moving away f...</td>\n",
       "      <td>1</td>\n",
       "    </tr>\n",
       "    <tr>\n",
       "      <th>117952</th>\n",
       "      <td>good thank</td>\n",
       "      <td>1</td>\n",
       "    </tr>\n",
       "    <tr>\n",
       "      <th>152315</th>\n",
       "      <td>great phone.</td>\n",
       "      <td>1</td>\n",
       "    </tr>\n",
       "    <tr>\n",
       "      <th>358083</th>\n",
       "      <td>cellphone stop working</td>\n",
       "      <td>0</td>\n",
       "    </tr>\n",
       "    <tr>\n",
       "      <th>359783</th>\n",
       "      <td>i've only used it for about three days but i t...</td>\n",
       "      <td>1</td>\n",
       "    </tr>\n",
       "  </tbody>\n",
       "</table>\n",
       "</div>"
      ],
      "text/plain": [
       "                                                  Reviews  Positively Rated\n",
       "305711  the only down side is windows is moving away f...                 1\n",
       "117952                                         good thank                 1\n",
       "152315                                       great phone.                 1\n",
       "358083                             cellphone stop working                 0\n",
       "359783  i've only used it for about three days but i t...                 1"
      ]
     },
     "execution_count": 112,
     "metadata": {
      "tags": []
     },
     "output_type": "execute_result"
    }
   ],
   "source": [
    "df.drop([\"Product Name\", \"Brand Name\", \"Price\", \"Review Votes\", \"Rating\"], axis = 1, inplace = True)\n",
    "df.head()"
   ]
  },
  {
   "cell_type": "code",
   "execution_count": 113,
   "metadata": {
    "colab": {
     "base_uri": "https://localhost:8080/",
     "height": 195
    },
    "id": "mvc0cvKFLjO-",
    "outputId": "aca83e97-f241-4a8e-9f10-acd9b23cd568"
   },
   "outputs": [
    {
     "data": {
      "text/html": [
       "<div>\n",
       "<style scoped>\n",
       "    .dataframe tbody tr th:only-of-type {\n",
       "        vertical-align: middle;\n",
       "    }\n",
       "\n",
       "    .dataframe tbody tr th {\n",
       "        vertical-align: top;\n",
       "    }\n",
       "\n",
       "    .dataframe thead th {\n",
       "        text-align: right;\n",
       "    }\n",
       "</style>\n",
       "<table border=\"1\" class=\"dataframe\">\n",
       "  <thead>\n",
       "    <tr style=\"text-align: right;\">\n",
       "      <th></th>\n",
       "      <th>Reviews</th>\n",
       "      <th>Positively Rated</th>\n",
       "    </tr>\n",
       "  </thead>\n",
       "  <tbody>\n",
       "    <tr>\n",
       "      <th>305711</th>\n",
       "      <td>the only down side is windows is moving away f...</td>\n",
       "      <td>1</td>\n",
       "    </tr>\n",
       "    <tr>\n",
       "      <th>117952</th>\n",
       "      <td>good thank</td>\n",
       "      <td>1</td>\n",
       "    </tr>\n",
       "    <tr>\n",
       "      <th>152315</th>\n",
       "      <td>great phone</td>\n",
       "      <td>1</td>\n",
       "    </tr>\n",
       "    <tr>\n",
       "      <th>358083</th>\n",
       "      <td>cellphone stop working</td>\n",
       "      <td>0</td>\n",
       "    </tr>\n",
       "    <tr>\n",
       "      <th>359783</th>\n",
       "      <td>ive only used it for about three days but i th...</td>\n",
       "      <td>1</td>\n",
       "    </tr>\n",
       "  </tbody>\n",
       "</table>\n",
       "</div>"
      ],
      "text/plain": [
       "                                                  Reviews  Positively Rated\n",
       "305711  the only down side is windows is moving away f...                 1\n",
       "117952                                         good thank                 1\n",
       "152315                                        great phone                 1\n",
       "358083                             cellphone stop working                 0\n",
       "359783  ive only used it for about three days but i th...                 1"
      ]
     },
     "execution_count": 113,
     "metadata": {
      "tags": []
     },
     "output_type": "execute_result"
    }
   ],
   "source": [
    "# removing punctuation\n",
    "def remove_punctuation(x):\n",
    "  return x.translate(str.maketrans('', '', string.punctuation))\n",
    "df[\"Reviews\"] = df[\"Reviews\"].apply(remove_punctuation)\n",
    "df.head()"
   ]
  },
  {
   "cell_type": "code",
   "execution_count": 114,
   "metadata": {
    "colab": {
     "base_uri": "https://localhost:8080/",
     "height": 67
    },
    "id": "Z2I8bYU-Ows9",
    "outputId": "284702e5-e632-4f33-b3f3-d8452547fe02"
   },
   "outputs": [
    {
     "name": "stdout",
     "output_type": "stream",
     "text": [
      "[nltk_data] Downloading package stopwords to /root/nltk_data...\n",
      "[nltk_data]   Package stopwords is already up-to-date!\n"
     ]
    },
    {
     "data": {
      "text/plain": [
       "True"
      ]
     },
     "execution_count": 114,
     "metadata": {
      "tags": []
     },
     "output_type": "execute_result"
    }
   ],
   "source": [
    "nltk.download(\"stopwords\")"
   ]
  },
  {
   "cell_type": "code",
   "execution_count": 115,
   "metadata": {
    "colab": {
     "base_uri": "https://localhost:8080/",
     "height": 1000
    },
    "id": "mmU_-mdJMDHw",
    "outputId": "ff511665-dcfc-4ecb-91f4-754acf724dd9",
    "scrolled": false
   },
   "outputs": [
    {
     "data": {
      "text/plain": [
       "{'a',\n",
       " 'about',\n",
       " 'above',\n",
       " 'after',\n",
       " 'again',\n",
       " 'against',\n",
       " 'ain',\n",
       " 'all',\n",
       " 'am',\n",
       " 'an',\n",
       " 'and',\n",
       " 'any',\n",
       " 'are',\n",
       " 'aren',\n",
       " \"aren't\",\n",
       " 'as',\n",
       " 'at',\n",
       " 'be',\n",
       " 'because',\n",
       " 'been',\n",
       " 'before',\n",
       " 'being',\n",
       " 'below',\n",
       " 'between',\n",
       " 'both',\n",
       " 'but',\n",
       " 'by',\n",
       " 'can',\n",
       " 'couldn',\n",
       " \"couldn't\",\n",
       " 'd',\n",
       " 'did',\n",
       " 'didn',\n",
       " \"didn't\",\n",
       " 'do',\n",
       " 'does',\n",
       " 'doesn',\n",
       " \"doesn't\",\n",
       " 'doing',\n",
       " 'don',\n",
       " \"don't\",\n",
       " 'down',\n",
       " 'during',\n",
       " 'each',\n",
       " 'few',\n",
       " 'for',\n",
       " 'from',\n",
       " 'further',\n",
       " 'had',\n",
       " 'hadn',\n",
       " \"hadn't\",\n",
       " 'has',\n",
       " 'hasn',\n",
       " \"hasn't\",\n",
       " 'have',\n",
       " 'haven',\n",
       " \"haven't\",\n",
       " 'having',\n",
       " 'he',\n",
       " 'her',\n",
       " 'here',\n",
       " 'hers',\n",
       " 'herself',\n",
       " 'him',\n",
       " 'himself',\n",
       " 'his',\n",
       " 'how',\n",
       " 'i',\n",
       " 'if',\n",
       " 'in',\n",
       " 'into',\n",
       " 'is',\n",
       " 'isn',\n",
       " \"isn't\",\n",
       " 'it',\n",
       " \"it's\",\n",
       " 'its',\n",
       " 'itself',\n",
       " 'just',\n",
       " 'll',\n",
       " 'm',\n",
       " 'ma',\n",
       " 'me',\n",
       " 'mightn',\n",
       " \"mightn't\",\n",
       " 'more',\n",
       " 'most',\n",
       " 'mustn',\n",
       " \"mustn't\",\n",
       " 'my',\n",
       " 'myself',\n",
       " 'needn',\n",
       " \"needn't\",\n",
       " 'no',\n",
       " 'nor',\n",
       " 'not',\n",
       " 'now',\n",
       " 'o',\n",
       " 'of',\n",
       " 'off',\n",
       " 'on',\n",
       " 'once',\n",
       " 'only',\n",
       " 'or',\n",
       " 'other',\n",
       " 'our',\n",
       " 'ours',\n",
       " 'ourselves',\n",
       " 'out',\n",
       " 'over',\n",
       " 'own',\n",
       " 're',\n",
       " 's',\n",
       " 'same',\n",
       " 'shan',\n",
       " \"shan't\",\n",
       " 'she',\n",
       " \"she's\",\n",
       " 'should',\n",
       " \"should've\",\n",
       " 'shouldn',\n",
       " \"shouldn't\",\n",
       " 'so',\n",
       " 'some',\n",
       " 'such',\n",
       " 't',\n",
       " 'than',\n",
       " 'that',\n",
       " \"that'll\",\n",
       " 'the',\n",
       " 'their',\n",
       " 'theirs',\n",
       " 'them',\n",
       " 'themselves',\n",
       " 'then',\n",
       " 'there',\n",
       " 'these',\n",
       " 'they',\n",
       " 'this',\n",
       " 'those',\n",
       " 'through',\n",
       " 'to',\n",
       " 'too',\n",
       " 'under',\n",
       " 'until',\n",
       " 'up',\n",
       " 've',\n",
       " 'very',\n",
       " 'was',\n",
       " 'wasn',\n",
       " \"wasn't\",\n",
       " 'we',\n",
       " 'were',\n",
       " 'weren',\n",
       " \"weren't\",\n",
       " 'what',\n",
       " 'when',\n",
       " 'where',\n",
       " 'which',\n",
       " 'while',\n",
       " 'who',\n",
       " 'whom',\n",
       " 'why',\n",
       " 'will',\n",
       " 'with',\n",
       " 'won',\n",
       " \"won't\",\n",
       " 'wouldn',\n",
       " \"wouldn't\",\n",
       " 'y',\n",
       " 'you',\n",
       " \"you'd\",\n",
       " \"you'll\",\n",
       " \"you're\",\n",
       " \"you've\",\n",
       " 'your',\n",
       " 'yours',\n",
       " 'yourself',\n",
       " 'yourselves'}"
      ]
     },
     "execution_count": 115,
     "metadata": {
      "tags": []
     },
     "output_type": "execute_result"
    }
   ],
   "source": [
    "# removing stopwords\n",
    "STOPWORDS = set(stopwords.words(\"english\"))\n",
    "STOPWORDS"
   ]
  },
  {
   "cell_type": "code",
   "execution_count": 116,
   "metadata": {
    "colab": {
     "base_uri": "https://localhost:8080/",
     "height": 195
    },
    "id": "WG7YB8kJMDB3",
    "outputId": "677b300c-f77e-4f25-e42f-5d89097e31c5"
   },
   "outputs": [
    {
     "data": {
      "text/html": [
       "<div>\n",
       "<style scoped>\n",
       "    .dataframe tbody tr th:only-of-type {\n",
       "        vertical-align: middle;\n",
       "    }\n",
       "\n",
       "    .dataframe tbody tr th {\n",
       "        vertical-align: top;\n",
       "    }\n",
       "\n",
       "    .dataframe thead th {\n",
       "        text-align: right;\n",
       "    }\n",
       "</style>\n",
       "<table border=\"1\" class=\"dataframe\">\n",
       "  <thead>\n",
       "    <tr style=\"text-align: right;\">\n",
       "      <th></th>\n",
       "      <th>Reviews</th>\n",
       "      <th>Positively Rated</th>\n",
       "    </tr>\n",
       "  </thead>\n",
       "  <tbody>\n",
       "    <tr>\n",
       "      <th>305711</th>\n",
       "      <td>side windows moving away platform zune pass lo...</td>\n",
       "      <td>1</td>\n",
       "    </tr>\n",
       "    <tr>\n",
       "      <th>117952</th>\n",
       "      <td>good thank</td>\n",
       "      <td>1</td>\n",
       "    </tr>\n",
       "    <tr>\n",
       "      <th>152315</th>\n",
       "      <td>great phone</td>\n",
       "      <td>1</td>\n",
       "    </tr>\n",
       "    <tr>\n",
       "      <th>358083</th>\n",
       "      <td>cellphone stop working</td>\n",
       "      <td>0</td>\n",
       "    </tr>\n",
       "    <tr>\n",
       "      <th>359783</th>\n",
       "      <td>ive used three days think get six stars really...</td>\n",
       "      <td>1</td>\n",
       "    </tr>\n",
       "  </tbody>\n",
       "</table>\n",
       "</div>"
      ],
      "text/plain": [
       "                                                  Reviews  Positively Rated\n",
       "305711  side windows moving away platform zune pass lo...                 1\n",
       "117952                                         good thank                 1\n",
       "152315                                        great phone                 1\n",
       "358083                             cellphone stop working                 0\n",
       "359783  ive used three days think get six stars really...                 1"
      ]
     },
     "execution_count": 116,
     "metadata": {
      "tags": []
     },
     "output_type": "execute_result"
    }
   ],
   "source": [
    "def remove_stopwords(x):\n",
    "  return \" \".join([word for word in str(x).split() if word not in STOPWORDS])\n",
    "df[\"Reviews\"] = df[\"Reviews\"].apply(lambda x: remove_stopwords(x))\n",
    "df.head()"
   ]
  },
  {
   "cell_type": "code",
   "execution_count": 117,
   "metadata": {
    "colab": {
     "base_uri": "https://localhost:8080/",
     "height": 67
    },
    "id": "D8Y4JqqSO3f6",
    "outputId": "34738bbb-e207-4dae-ef7d-548487a5d69e"
   },
   "outputs": [
    {
     "name": "stdout",
     "output_type": "stream",
     "text": [
      "[nltk_data] Downloading package wordnet to /root/nltk_data...\n",
      "[nltk_data]   Package wordnet is already up-to-date!\n"
     ]
    },
    {
     "data": {
      "text/plain": [
       "True"
      ]
     },
     "execution_count": 117,
     "metadata": {
      "tags": []
     },
     "output_type": "execute_result"
    }
   ],
   "source": [
    "nltk.download(\"wordnet\")"
   ]
  },
  {
   "cell_type": "code",
   "execution_count": 118,
   "metadata": {
    "id": "PoZVfeaFMYxh"
   },
   "outputs": [],
   "source": [
    "lemmatizer = WordNetLemmatizer()"
   ]
  },
  {
   "cell_type": "code",
   "execution_count": 119,
   "metadata": {
    "colab": {
     "base_uri": "https://localhost:8080/",
     "height": 195
    },
    "id": "Hc7NWplnMYsi",
    "outputId": "5ab86b96-7239-4839-810f-284edd469fea"
   },
   "outputs": [
    {
     "data": {
      "text/html": [
       "<div>\n",
       "<style scoped>\n",
       "    .dataframe tbody tr th:only-of-type {\n",
       "        vertical-align: middle;\n",
       "    }\n",
       "\n",
       "    .dataframe tbody tr th {\n",
       "        vertical-align: top;\n",
       "    }\n",
       "\n",
       "    .dataframe thead th {\n",
       "        text-align: right;\n",
       "    }\n",
       "</style>\n",
       "<table border=\"1\" class=\"dataframe\">\n",
       "  <thead>\n",
       "    <tr style=\"text-align: right;\">\n",
       "      <th></th>\n",
       "      <th>Reviews</th>\n",
       "      <th>Positively Rated</th>\n",
       "    </tr>\n",
       "  </thead>\n",
       "  <tbody>\n",
       "    <tr>\n",
       "      <th>305711</th>\n",
       "      <td>side window moving away platform zune pas long...</td>\n",
       "      <td>1</td>\n",
       "    </tr>\n",
       "    <tr>\n",
       "      <th>117952</th>\n",
       "      <td>good thank</td>\n",
       "      <td>1</td>\n",
       "    </tr>\n",
       "    <tr>\n",
       "      <th>152315</th>\n",
       "      <td>great phone</td>\n",
       "      <td>1</td>\n",
       "    </tr>\n",
       "    <tr>\n",
       "      <th>358083</th>\n",
       "      <td>cellphone stop working</td>\n",
       "      <td>0</td>\n",
       "    </tr>\n",
       "    <tr>\n",
       "      <th>359783</th>\n",
       "      <td>ive used three day think get six star really l...</td>\n",
       "      <td>1</td>\n",
       "    </tr>\n",
       "  </tbody>\n",
       "</table>\n",
       "</div>"
      ],
      "text/plain": [
       "                                                  Reviews  Positively Rated\n",
       "305711  side window moving away platform zune pas long...                 1\n",
       "117952                                         good thank                 1\n",
       "152315                                        great phone                 1\n",
       "358083                             cellphone stop working                 0\n",
       "359783  ive used three day think get six star really l...                 1"
      ]
     },
     "execution_count": 119,
     "metadata": {
      "tags": []
     },
     "output_type": "execute_result"
    }
   ],
   "source": [
    "def lemmatize_words(x):\n",
    "  return \" \".join([lemmatizer.lemmatize(word) for word in x.split()])\n",
    "df[\"Reviews\"] = df[\"Reviews\"].apply(lambda x: lemmatize_words(x))\n",
    "df.head()"
   ]
  },
  {
   "cell_type": "code",
   "execution_count": 120,
   "metadata": {
    "colab": {
     "base_uri": "https://localhost:8080/",
     "height": 34
    },
    "id": "D7RcWVQ_PNbf",
    "outputId": "2196dff8-69db-4588-a9ef-aa088b3e2052"
   },
   "outputs": [
    {
     "data": {
      "text/plain": [
       "2"
      ]
     },
     "execution_count": 120,
     "metadata": {
      "tags": []
     },
     "output_type": "execute_result"
    }
   ],
   "source": [
    "df[\"Positively Rated\"].nunique()"
   ]
  },
  {
   "cell_type": "code",
   "execution_count": 121,
   "metadata": {
    "colab": {
     "base_uri": "https://localhost:8080/",
     "height": 34
    },
    "id": "6t4MMgcbPQOR",
    "outputId": "032f2815-3533-4c4c-aa9a-a1f38141efb1"
   },
   "outputs": [
    {
     "data": {
      "text/plain": [
       "array([1, 0])"
      ]
     },
     "execution_count": 121,
     "metadata": {
      "tags": []
     },
     "output_type": "execute_result"
    }
   ],
   "source": [
    "df[\"Positively Rated\"].unique()"
   ]
  },
  {
   "cell_type": "code",
   "execution_count": 132,
   "metadata": {
    "id": "U7TAub5dNC4I"
   },
   "outputs": [],
   "source": [
    "max_features = 500\n",
    "tokenizer = Tokenizer(num_words = max_features, split = ' ')\n",
    "tokenizer.fit_on_texts(df[\"Reviews\"].values)\n",
    "X = tokenizer.texts_to_sequences(df[\"Reviews\"].values)\n",
    "X = pad_sequences(X)"
   ]
  },
  {
   "cell_type": "code",
   "execution_count": 133,
   "metadata": {
    "colab": {
     "base_uri": "https://localhost:8080/",
     "height": 134
    },
    "id": "wy3gNoPTPl0I",
    "outputId": "67b36567-dcca-4cba-ebeb-17f6e7fb3203"
   },
   "outputs": [
    {
     "data": {
      "text/plain": [
       "array([[  0,   0,   0, ..., 125,   5,  63],\n",
       "       [  0,   0,   0, ...,   0,   3, 209],\n",
       "       [  0,   0,   0, ...,   0,   2,   1],\n",
       "       ...,\n",
       "       [  0,   0,   0, ..., 131,   5,  32],\n",
       "       [  0,   0,   0, ..., 164,  52,  90],\n",
       "       [  0,   0,   0, ...,   2,  75, 210]], dtype=int32)"
      ]
     },
     "execution_count": 133,
     "metadata": {
      "tags": []
     },
     "output_type": "execute_result"
    }
   ],
   "source": [
    "X"
   ]
  },
  {
   "cell_type": "code",
   "execution_count": 134,
   "metadata": {
    "colab": {
     "base_uri": "https://localhost:8080/",
     "height": 218
    },
    "id": "t-RhPvzmPnwR",
    "outputId": "2afcc854-a98f-45d2-90dc-ca1b63d90105"
   },
   "outputs": [
    {
     "data": {
      "text/plain": [
       "305711    1\n",
       "117952    1\n",
       "152315    1\n",
       "358083    0\n",
       "359783    1\n",
       "         ..\n",
       "361206    0\n",
       "381962    0\n",
       "80804     0\n",
       "123221    0\n",
       "133927    1\n",
       "Name: Positively Rated, Length: 15374, dtype: int64"
      ]
     },
     "execution_count": 134,
     "metadata": {
      "tags": []
     },
     "output_type": "execute_result"
    }
   ],
   "source": [
    "df[\"Positively Rated\"]"
   ]
  },
  {
   "cell_type": "code",
   "execution_count": 135,
   "metadata": {
    "id": "kze_l6YwMqCn"
   },
   "outputs": [],
   "source": [
    "X_train, X_test, y_train, y_test = train_test_split(X, df[\"Positively Rated\"], test_size = 0.33, random_state = 0)"
   ]
  },
  {
   "cell_type": "code",
   "execution_count": 136,
   "metadata": {
    "colab": {
     "base_uri": "https://localhost:8080/",
     "height": 34
    },
    "id": "e3hSfoViMp8K",
    "outputId": "1c3ef80d-0153-42d0-a092-ed0a69c93c50"
   },
   "outputs": [
    {
     "data": {
      "text/plain": [
       "((10300, 1483), (5074, 1483), (10300,), (5074,))"
      ]
     },
     "execution_count": 136,
     "metadata": {
      "tags": []
     },
     "output_type": "execute_result"
    }
   ],
   "source": [
    "X_train.shape, X_test.shape, y_train.shape, y_test.shape"
   ]
  },
  {
   "cell_type": "code",
   "execution_count": 137,
   "metadata": {
    "id": "xg5HUG7fPtpc"
   },
   "outputs": [],
   "source": [
    "batch_size = 16\n",
    "embedding_dim = 64\n",
    "lstm_out = 64"
   ]
  },
  {
   "cell_type": "code",
   "execution_count": 142,
   "metadata": {
    "id": "ZQ5DqWOMPyle"
   },
   "outputs": [],
   "source": [
    "model = Sequential()\n",
    "model.add(Embedding(max_features, embedding_dim, input_length = X.shape[1]))\n",
    "model.add(SpatialDropout1D(0.4))\n",
    "model.add(LSTM(lstm_out, dropout = 0.2))\n",
    "model.add(Dense(1, activation = \"sigmoid\"))"
   ]
  },
  {
   "cell_type": "code",
   "execution_count": 143,
   "metadata": {
    "id": "hfUF4LcJQQt5"
   },
   "outputs": [],
   "source": [
    "model.compile(\n",
    "    loss = \"binary_crossentropy\",\n",
    "    optimizer = \"adam\",\n",
    "    metrics = [\"accuracy\"]\n",
    ")"
   ]
  },
  {
   "cell_type": "code",
   "execution_count": 144,
   "metadata": {
    "colab": {
     "base_uri": "https://localhost:8080/",
     "height": 286
    },
    "id": "JEFn1RrhQXi8",
    "outputId": "e3148830-2bec-4468-8772-4b83d8d69eac"
   },
   "outputs": [
    {
     "name": "stdout",
     "output_type": "stream",
     "text": [
      "Model: \"sequential_6\"\n",
      "_________________________________________________________________\n",
      "Layer (type)                 Output Shape              Param #   \n",
      "=================================================================\n",
      "embedding_6 (Embedding)      (None, 1483, 64)          32000     \n",
      "_________________________________________________________________\n",
      "spatial_dropout1d_6 (Spatial (None, 1483, 64)          0         \n",
      "_________________________________________________________________\n",
      "lstm_6 (LSTM)                (None, 64)                33024     \n",
      "_________________________________________________________________\n",
      "dense_6 (Dense)              (None, 1)                 65        \n",
      "=================================================================\n",
      "Total params: 65,089\n",
      "Trainable params: 65,089\n",
      "Non-trainable params: 0\n",
      "_________________________________________________________________\n"
     ]
    }
   ],
   "source": [
    "model.summary()"
   ]
  },
  {
   "cell_type": "code",
   "execution_count": 145,
   "metadata": {
    "colab": {
     "base_uri": "https://localhost:8080/",
     "height": 222
    },
    "id": "Qrvq-12EQYu8",
    "outputId": "e06c5be3-795e-4dc2-b080-9da1c0f0017b"
   },
   "outputs": [
    {
     "name": "stdout",
     "output_type": "stream",
     "text": [
      "Epoch 1/5\n",
      "WARNING:tensorflow:5 out of the last 12 calls to <function Model.make_train_function.<locals>.train_function at 0x7f7d8b9537b8> triggered tf.function retracing. Tracing is expensive and the excessive number of tracings could be due to (1) creating @tf.function repeatedly in a loop, (2) passing tensors with different shapes, (3) passing Python objects instead of tensors. For (1), please define your @tf.function outside of the loop. For (2), @tf.function has experimental_relax_shapes=True option that relaxes argument shapes that can avoid unnecessary retracing. For (3), please refer to https://www.tensorflow.org/tutorials/customization/performance#python_or_tensor_args and https://www.tensorflow.org/api_docs/python/tf/function for  more details.\n",
      "644/644 [==============================] - 136s 212ms/step - loss: 0.3641 - accuracy: 0.8400 - val_loss: 0.2904 - val_accuracy: 0.8802\n",
      "Epoch 2/5\n",
      "644/644 [==============================] - 132s 206ms/step - loss: 0.2622 - accuracy: 0.8955 - val_loss: 0.2579 - val_accuracy: 0.9007\n",
      "Epoch 3/5\n",
      "644/644 [==============================] - 131s 204ms/step - loss: 0.2358 - accuracy: 0.9057 - val_loss: 0.2552 - val_accuracy: 0.8963\n",
      "Epoch 4/5\n",
      "644/644 [==============================] - 133s 206ms/step - loss: 0.2315 - accuracy: 0.9070 - val_loss: 0.2576 - val_accuracy: 0.8953\n",
      "Epoch 5/5\n",
      "644/644 [==============================] - 133s 206ms/step - loss: 0.2205 - accuracy: 0.9122 - val_loss: 0.2679 - val_accuracy: 0.8906\n"
     ]
    }
   ],
   "source": [
    "history = model.fit(\n",
    "    X_train,\n",
    "    y_train,\n",
    "    epochs = 5,\n",
    "    batch_size = batch_size,\n",
    "    validation_data = (X_test, y_test),\n",
    "    verbose = 1\n",
    ")"
   ]
  },
  {
   "cell_type": "code",
   "execution_count": 146,
   "metadata": {
    "colab": {
     "base_uri": "https://localhost:8080/",
     "height": 54
    },
    "id": "hCIE5UYsQnIo",
    "outputId": "a8284795-1f36-458a-a8a0-f9ae7a794a61"
   },
   "outputs": [
    {
     "name": "stdout",
     "output_type": "stream",
     "text": [
      "318/318 [==============================] - 26s 82ms/step - loss: 0.2679 - accuracy: 0.8906\n"
     ]
    }
   ],
   "source": [
    "score, acc = model.evaluate(X_test, y_test, verbose = 1, batch_size = batch_size)"
   ]
  },
  {
   "cell_type": "code",
   "execution_count": 147,
   "metadata": {
    "colab": {
     "base_uri": "https://localhost:8080/",
     "height": 50
    },
    "id": "JGhokL-4X-IR",
    "outputId": "f32cb96c-7585-458c-af11-f5bfb6935307"
   },
   "outputs": [
    {
     "name": "stdout",
     "output_type": "stream",
     "text": [
      "Score: 0.27\n",
      "Acc: 0.89\n"
     ]
    }
   ],
   "source": [
    "print(\"Score: %.2f\" % (score))\n",
    "print(\"Acc: %.2f\" % (acc))"
   ]
  },
  {
   "cell_type": "code",
   "execution_count": null,
   "metadata": {
    "id": "kfNokKm2YEOR"
   },
   "outputs": [],
   "source": []
  }
 ],
 "metadata": {
  "accelerator": "GPU",
  "colab": {
   "collapsed_sections": [],
   "name": "LSTM_Mobile_Reviews.ipynb",
   "provenance": []
  },
  "kernelspec": {
   "display_name": "Python 3",
   "language": "python",
   "name": "python3"
  },
  "language_info": {
   "codemirror_mode": {
    "name": "ipython",
    "version": 3
   },
   "file_extension": ".py",
   "mimetype": "text/x-python",
   "name": "python",
   "nbconvert_exporter": "python",
   "pygments_lexer": "ipython3",
   "version": "3.8.2"
  }
 },
 "nbformat": 4,
 "nbformat_minor": 1
}
